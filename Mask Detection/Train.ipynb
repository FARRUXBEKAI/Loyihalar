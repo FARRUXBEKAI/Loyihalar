{
 "cells": [
  {
   "cell_type": "markdown",
   "id": "052d560f-052c-44f2-9878-c5e3584fc5b4",
   "metadata": {},
   "source": [
    "# 20/12/2022\n",
    "\n",
    "# Deep Learning va Computer Vision \n",
    "\n",
    "# Mask Detection\n",
    "\n",
    "# Muallif: Farrux Sotivoldiyev"
   ]
  },
  {
   "cell_type": "markdown",
   "id": "c0ff8703-3f05-4817-ae75-c2ac83bf873f",
   "metadata": {
    "id": "c0ff8703-3f05-4817-ae75-c2ac83bf873f",
    "tags": []
   },
   "source": [
    "#### `Kutubxonalar`"
   ]
  },
  {
   "cell_type": "code",
   "execution_count": 1,
   "id": "761236f4-654c-4f3e-96c3-9086971d4b7b",
   "metadata": {
    "executionInfo": {
     "elapsed": 8628,
     "status": "ok",
     "timestamp": 1671533912336,
     "user": {
      "displayName": "Farrux Sotivoldiyev",
      "userId": "00899290962114824973"
     },
     "user_tz": -300
    },
    "id": "761236f4-654c-4f3e-96c3-9086971d4b7b"
   },
   "outputs": [],
   "source": [
    "import os\n",
    "import cv2\n",
    "import numpy as np\n",
    "from tqdm import tqdm\n",
    "import tensorflow as tf\n",
    "import matplotlib.pyplot as plt\n",
    "from tensorflow.keras.models import Model,Sequential\n",
    "from tensorflow.keras.layers import Flatten,Dense\n",
    "from tensorflow.keras.applications.mobilenet import preprocess_input"
   ]
  },
  {
   "cell_type": "markdown",
   "id": "a178c144-6972-40e6-a6a6-84ec3db7054d",
   "metadata": {},
   "source": [
    "#### `Google Drive va Google Colab ni bog'lab olish`"
   ]
  },
  {
   "cell_type": "code",
   "execution_count": 2,
   "id": "qu4RQNxLIDgc",
   "metadata": {
    "colab": {
     "base_uri": "https://localhost:8080/"
    },
    "executionInfo": {
     "elapsed": 3019,
     "status": "ok",
     "timestamp": 1671533915350,
     "user": {
      "displayName": "Farrux Sotivoldiyev",
      "userId": "00899290962114824973"
     },
     "user_tz": -300
    },
    "id": "qu4RQNxLIDgc",
    "outputId": "77ddedc7-843a-4610-bf58-d31cafd511ac"
   },
   "outputs": [
    {
     "name": "stdout",
     "output_type": "stream",
     "text": [
      "Drive already mounted at /content/drive; to attempt to forcibly remount, call drive.mount(\"/content/drive\", force_remount=True).\n"
     ]
    }
   ],
   "source": [
    "from google.colab import drive\n",
    "drive.mount('/content/drive')"
   ]
  },
  {
   "cell_type": "markdown",
   "id": "9d1df039-8c15-496d-8298-6713463d612a",
   "metadata": {
    "id": "9d1df039-8c15-496d-8298-6713463d612a"
   },
   "source": [
    "#### `Rasmlar turgan path`"
   ]
  },
  {
   "cell_type": "code",
   "execution_count": 3,
   "id": "eb6fba13-a57b-476b-a2bf-4fdd7ca185ba",
   "metadata": {
    "executionInfo": {
     "elapsed": 4,
     "status": "ok",
     "timestamp": 1671533915351,
     "user": {
      "displayName": "Farrux Sotivoldiyev",
      "userId": "00899290962114824973"
     },
     "user_tz": -300
    },
    "id": "eb6fba13-a57b-476b-a2bf-4fdd7ca185ba"
   },
   "outputs": [],
   "source": [
    "train_data_dir = \"/content/drive/MyDrive/Colab Notebooks/datasets/Face_Mask_Dataset/Train\"\n",
    "test_data_dir = \"/content/drive/MyDrive/Colab Notebooks/datasets/Face_Mask_Dataset/Test\""
   ]
  },
  {
   "cell_type": "markdown",
   "id": "6b84535a-bb83-464e-8b03-a3aaa8fd763b",
   "metadata": {
    "id": "6b84535a-bb83-464e-8b03-a3aaa8fd763b"
   },
   "source": [
    "#### `Path ni olib undan rasmlarni o'qib (224,224) o'lchamga olib kelib x_train,y_train ga bo'lib qaytaradi` "
   ]
  },
  {
   "cell_type": "code",
   "execution_count": 1,
   "id": "5a604b31-a76a-4bd2-af8f-9126d88b42cb",
   "metadata": {
    "executionInfo": {
     "elapsed": 3,
     "status": "ok",
     "timestamp": 1671533915351,
     "user": {
      "displayName": "Farrux Sotivoldiyev",
      "userId": "00899290962114824973"
     },
     "user_tz": -300
    },
    "id": "5a604b31-a76a-4bd2-af8f-9126d88b42cb"
   },
   "outputs": [],
   "source": [
    "def get_load_dataset(data_dir):\n",
    "    data = []\n",
    "    x = []\n",
    "    y = []\n",
    "    classes = [\"mask\",\"no_mask\"]\n",
    "    for i in classes:\n",
    "        path = os.path.join(data_dir,i)\n",
    "        for img in tqdm(os.listdir(path)):\n",
    "            img_array = cv2.imread(os.path.join(path,img))\n",
    "            img_array = cv2.cvtColor(img_array,cv2.COLOR_BGR2RGB)\n",
    "            img_array = cv2.resize(img_array,(224,224))\n",
    "            encod = 0 if i==\"mask\" else 1 # mask = 0 ; no_mask = 1\n",
    "            if img_array.shape[2]==3:\n",
    "                data.append((img_array,encod))\n",
    "    np.random.shuffle(data)\n",
    "    for i,j in data:\n",
    "        x.append(i)\n",
    "        y.append(j)\n",
    "    x = np.array(x, dtype= np.float32).reshape(-1, 224, 224,3)\n",
    "    y = np.array(y, dtype=np.uint8)\n",
    "    return preprocess_input(x), y"
   ]
  },
  {
   "cell_type": "markdown",
   "id": "f2e9be7d-35a5-429b-a469-c4077f4d68db",
   "metadata": {
    "id": "f2e9be7d-35a5-429b-a469-c4077f4d68db"
   },
   "source": [
    "#### `Data x_train,y_train ga yuklandi`"
   ]
  },
  {
   "cell_type": "code",
   "execution_count": 5,
   "id": "8037f90f-bfe2-4920-899f-20ad38a715d0",
   "metadata": {
    "colab": {
     "base_uri": "https://localhost:8080/"
    },
    "executionInfo": {
     "elapsed": 61726,
     "status": "ok",
     "timestamp": 1671533977074,
     "user": {
      "displayName": "Farrux Sotivoldiyev",
      "userId": "00899290962114824973"
     },
     "user_tz": -300
    },
    "id": "8037f90f-bfe2-4920-899f-20ad38a715d0",
    "outputId": "c382eeea-3822-4b22-91c3-6b5b1a093d99"
   },
   "outputs": [
    {
     "name": "stderr",
     "output_type": "stream",
     "text": [
      "100%|██████████| 4999/4999 [00:33<00:00, 151.09it/s]\n",
      "100%|██████████| 5010/5010 [00:23<00:00, 213.48it/s]\n"
     ]
    }
   ],
   "source": [
    "x_train,y_train = get_load_dataset(train_data_dir)"
   ]
  },
  {
   "cell_type": "code",
   "execution_count": 6,
   "id": "3dKqGFtqLpEN",
   "metadata": {
    "colab": {
     "base_uri": "https://localhost:8080/"
    },
    "executionInfo": {
     "elapsed": 5790,
     "status": "ok",
     "timestamp": 1671533982853,
     "user": {
      "displayName": "Farrux Sotivoldiyev",
      "userId": "00899290962114824973"
     },
     "user_tz": -300
    },
    "id": "3dKqGFtqLpEN",
    "outputId": "7f69588a-1cca-4c3f-ffd5-93e92f8db465"
   },
   "outputs": [
    {
     "name": "stderr",
     "output_type": "stream",
     "text": [
      "100%|██████████| 483/483 [00:02<00:00, 165.43it/s]\n",
      "100%|██████████| 509/509 [00:02<00:00, 238.53it/s]\n"
     ]
    }
   ],
   "source": [
    "x_test,y_test = get_load_dataset(test_data_dir)"
   ]
  },
  {
   "cell_type": "markdown",
   "id": "460af98c-a76d-4fef-80ab-dd355e9536e9",
   "metadata": {
    "id": "460af98c-a76d-4fef-80ab-dd355e9536e9"
   },
   "source": [
    "#### x_train, y_train va  x_test, y_test uzunligini ko'rish"
   ]
  },
  {
   "cell_type": "code",
   "execution_count": 7,
   "id": "d1b94569-8b4b-48c5-aa84-17e7686be858",
   "metadata": {
    "colab": {
     "base_uri": "https://localhost:8080/"
    },
    "executionInfo": {
     "elapsed": 13,
     "status": "ok",
     "timestamp": 1671533982853,
     "user": {
      "displayName": "Farrux Sotivoldiyev",
      "userId": "00899290962114824973"
     },
     "user_tz": -300
    },
    "id": "d1b94569-8b4b-48c5-aa84-17e7686be858",
    "outputId": "c7cb1991-8f47-478c-8c79-9ac26d3298fa"
   },
   "outputs": [
    {
     "name": "stdout",
     "output_type": "stream",
     "text": [
      "x_train len: 10009\n",
      "y_train len: 10009\n",
      "x_test len: 992\n",
      "y_test len: 992\n"
     ]
    }
   ],
   "source": [
    "print(\"x_train len:\",len(x_train))\n",
    "print(\"y_train len:\",len(y_train))\n",
    "print(\"x_test len:\",len(x_test))\n",
    "print(\"y_test len:\",len(y_test))"
   ]
  },
  {
   "cell_type": "markdown",
   "id": "e86042f0-cf3d-4608-a49f-28e2a90af684",
   "metadata": {
    "id": "e86042f0-cf3d-4608-a49f-28e2a90af684"
   },
   "source": [
    "#### x_train, y_train va  x_test, y_test shape ni ko'rish"
   ]
  },
  {
   "cell_type": "code",
   "execution_count": 8,
   "id": "698b8322-8f40-4fc7-9483-1a906650bea4",
   "metadata": {
    "colab": {
     "base_uri": "https://localhost:8080/"
    },
    "executionInfo": {
     "elapsed": 12,
     "status": "ok",
     "timestamp": 1671533982853,
     "user": {
      "displayName": "Farrux Sotivoldiyev",
      "userId": "00899290962114824973"
     },
     "user_tz": -300
    },
    "id": "698b8322-8f40-4fc7-9483-1a906650bea4",
    "outputId": "e4b91c5a-4cf5-4aa2-c416-b2da5fa513ea"
   },
   "outputs": [
    {
     "name": "stdout",
     "output_type": "stream",
     "text": [
      "x_train shape: (10009, 224, 224, 3)\n",
      "y_train shape: (10009,)\n",
      "x_test shape: (992, 224, 224, 3)\n",
      "y_test shape: (992,)\n"
     ]
    }
   ],
   "source": [
    "print(\"x_train shape:\",x_train.shape)\n",
    "print(\"y_train shape:\",y_train.shape)\n",
    "print(\"x_test shape:\",x_test.shape)\n",
    "print(\"y_test shape:\",y_test.shape)"
   ]
  },
  {
   "cell_type": "markdown",
   "id": "f21ce671-b481-48df-a718-6b7a7c22070b",
   "metadata": {
    "id": "f21ce671-b481-48df-a718-6b7a7c22070b"
   },
   "source": [
    "# Training"
   ]
  },
  {
   "cell_type": "markdown",
   "id": "2f5cc57b-3113-4c99-ac09-cfb6a5de81bd",
   "metadata": {
    "id": "2f5cc57b-3113-4c99-ac09-cfb6a5de81bd"
   },
   "source": [
    "#### `Training uchun MobileNet applicationini yuklab olish`"
   ]
  },
  {
   "cell_type": "code",
   "execution_count": 9,
   "id": "0abea301-5b13-4209-925c-6f470329fc75",
   "metadata": {
    "executionInfo": {
     "elapsed": 576,
     "status": "ok",
     "timestamp": 1671533983419,
     "user": {
      "displayName": "Farrux Sotivoldiyev",
      "userId": "00899290962114824973"
     },
     "user_tz": -300
    },
    "id": "0abea301-5b13-4209-925c-6f470329fc75"
   },
   "outputs": [],
   "source": [
    "model_app = tf.keras.applications.mobilenet.MobileNet(input_shape=(224,224,3),include_top=False)"
   ]
  },
  {
   "cell_type": "markdown",
   "id": "d62400d1-0ab2-40f8-99e6-bc7254fb3ac5",
   "metadata": {
    "id": "d62400d1-0ab2-40f8-99e6-bc7254fb3ac5"
   },
   "source": [
    "#### `Modelning arxitekturasini ko'ramiz`"
   ]
  },
  {
   "cell_type": "code",
   "execution_count": 10,
   "id": "22987731-6ab5-4eac-88e0-b0b2a6116872",
   "metadata": {
    "executionInfo": {
     "elapsed": 3,
     "status": "ok",
     "timestamp": 1671533983420,
     "user": {
      "displayName": "Farrux Sotivoldiyev",
      "userId": "00899290962114824973"
     },
     "user_tz": -300
    },
    "id": "22987731-6ab5-4eac-88e0-b0b2a6116872"
   },
   "outputs": [],
   "source": [
    "# model_app.summary()"
   ]
  },
  {
   "cell_type": "markdown",
   "id": "6ee86277-6189-4da0-926b-a3a620547815",
   "metadata": {
    "id": "6ee86277-6189-4da0-926b-a3a620547815",
    "tags": []
   },
   "source": [
    "#### `Modelimiz Transfer Learning bo'lishi uchun model ichidagi barcha layerlarni muzlatib qo'yishimiz kerak`"
   ]
  },
  {
   "cell_type": "code",
   "execution_count": 11,
   "id": "11b2046b-b141-43fc-959e-c743cc24c683",
   "metadata": {
    "executionInfo": {
     "elapsed": 2,
     "status": "ok",
     "timestamp": 1671533983420,
     "user": {
      "displayName": "Farrux Sotivoldiyev",
      "userId": "00899290962114824973"
     },
     "user_tz": -300
    },
    "id": "11b2046b-b141-43fc-959e-c743cc24c683"
   },
   "outputs": [],
   "source": [
    "model_app.trainable = False"
   ]
  },
  {
   "cell_type": "markdown",
   "id": "46c559f1-b78a-479c-a9e3-7f55a0ce6a7b",
   "metadata": {
    "id": "46c559f1-b78a-479c-a9e3-7f55a0ce6a7b"
   },
   "source": [
    "#### `Tuzayotgan clasificatsiyamizga qarab Transfer learning bo'lgan modelimizga qo'shimcha layer qo'shamiz`"
   ]
  },
  {
   "cell_type": "code",
   "execution_count": 13,
   "id": "pzpTl_4iJJ10",
   "metadata": {
    "executionInfo": {
     "elapsed": 2375,
     "status": "ok",
     "timestamp": 1671533985793,
     "user": {
      "displayName": "Farrux Sotivoldiyev",
      "userId": "00899290962114824973"
     },
     "user_tz": -300
    },
    "id": "pzpTl_4iJJ10"
   },
   "outputs": [],
   "source": [
    "model = Sequential([\n",
    "    model_app,\n",
    "    Flatten(),\n",
    "    Dense(1000, activation=\"relu\"),\n",
    "    Dense(10, activation=\"relu\"),\n",
    "    Dense(1, activation=\"sigmoid\"),\n",
    "])"
   ]
  },
  {
   "cell_type": "markdown",
   "id": "eadf4bfd-7691-4685-81cf-8f5ed08ed328",
   "metadata": {
    "id": "eadf4bfd-7691-4685-81cf-8f5ed08ed328"
   },
   "source": [
    "#### `Classifikatsiyamizga mos model arxitekturasini ko'ramiz`"
   ]
  },
  {
   "cell_type": "code",
   "execution_count": 14,
   "id": "b2512615-4603-453d-925a-f9126abb7d16",
   "metadata": {
    "executionInfo": {
     "elapsed": 4,
     "status": "ok",
     "timestamp": 1671533985793,
     "user": {
      "displayName": "Farrux Sotivoldiyev",
      "userId": "00899290962114824973"
     },
     "user_tz": -300
    },
    "id": "b2512615-4603-453d-925a-f9126abb7d16"
   },
   "outputs": [],
   "source": [
    "# model.summary()"
   ]
  },
  {
   "cell_type": "markdown",
   "id": "60a5d60b-34ef-48a2-9d25-ec0500c14648",
   "metadata": {
    "id": "60a5d60b-34ef-48a2-9d25-ec0500c14648"
   },
   "source": [
    "#### `Modelni compile qilish: bunda optimizer,loss va metrics ni berishimiz kerak` "
   ]
  },
  {
   "cell_type": "code",
   "execution_count": 15,
   "id": "d6425629-1e0a-4261-825e-437e594a2268",
   "metadata": {
    "executionInfo": {
     "elapsed": 5,
     "status": "ok",
     "timestamp": 1671533985794,
     "user": {
      "displayName": "Farrux Sotivoldiyev",
      "userId": "00899290962114824973"
     },
     "user_tz": -300
    },
    "id": "d6425629-1e0a-4261-825e-437e594a2268"
   },
   "outputs": [],
   "source": [
    "model.compile(optimizer=\"adam\",loss=\"binary_crossentropy\",metrics=[\"accuracy\"])"
   ]
  },
  {
   "cell_type": "markdown",
   "id": "99fd2a0b-4459-4c60-b1d5-434b2357dc28",
   "metadata": {
    "id": "99fd2a0b-4459-4c60-b1d5-434b2357dc28"
   },
   "source": [
    "#### `Modelga bilim berish`"
   ]
  },
  {
   "cell_type": "code",
   "execution_count": 16,
   "id": "578ee3d8-b5a0-45a3-b797-7d38fd4fed0c",
   "metadata": {
    "colab": {
     "base_uri": "https://localhost:8080/"
    },
    "executionInfo": {
     "elapsed": 2088956,
     "status": "ok",
     "timestamp": 1671536074746,
     "user": {
      "displayName": "Farrux Sotivoldiyev",
      "userId": "00899290962114824973"
     },
     "user_tz": -300
    },
    "id": "578ee3d8-b5a0-45a3-b797-7d38fd4fed0c",
    "outputId": "a9bd43ce-0b1d-42ad-9d5f-52b0724b7c4e"
   },
   "outputs": [
    {
     "name": "stdout",
     "output_type": "stream",
     "text": [
      "Epoch 1/5\n",
      "219/219 [==============================] - 420s 2s/step - loss: 0.3767 - accuracy: 0.9902 - val_loss: 0.0260 - val_accuracy: 0.9970\n",
      "Epoch 2/5\n",
      "219/219 [==============================] - 424s 2s/step - loss: 0.0575 - accuracy: 0.9969 - val_loss: 0.0128 - val_accuracy: 0.9983\n",
      "Epoch 3/5\n",
      "219/219 [==============================] - 416s 2s/step - loss: 0.0278 - accuracy: 0.9983 - val_loss: 0.0194 - val_accuracy: 0.9983\n",
      "Epoch 4/5\n",
      "219/219 [==============================] - 415s 2s/step - loss: 0.0138 - accuracy: 0.9976 - val_loss: 0.0910 - val_accuracy: 0.9973\n",
      "Epoch 5/5\n",
      "219/219 [==============================] - 414s 2s/step - loss: 0.0028 - accuracy: 0.9997 - val_loss: 0.0334 - val_accuracy: 0.9983\n"
     ]
    },
    {
     "data": {
      "text/plain": [
       "<keras.callbacks.History at 0x7f091a9748b0>"
      ]
     },
     "execution_count": 16,
     "metadata": {},
     "output_type": "execute_result"
    }
   ],
   "source": [
    "model.fit(x_train,y_train,epochs=5,validation_split=0.3)"
   ]
  },
  {
   "cell_type": "markdown",
   "id": "2a941b8a-2da5-4bc8-8c4c-d91df8359b21",
   "metadata": {
    "id": "2a941b8a-2da5-4bc8-8c4c-d91df8359b21"
   },
   "source": [
    "#### `Modelni parameterlarini saqlash ya'ni weight va biaslarini`"
   ]
  },
  {
   "cell_type": "code",
   "execution_count": 28,
   "id": "0be48e00-fb75-4017-bfb8-4f515ff252a2",
   "metadata": {
    "executionInfo": {
     "elapsed": 3047,
     "status": "ok",
     "timestamp": 1671537553007,
     "user": {
      "displayName": "Farrux Sotivoldiyev",
      "userId": "00899290962114824973"
     },
     "user_tz": -300
    },
    "id": "0be48e00-fb75-4017-bfb8-4f515ff252a2"
   },
   "outputs": [],
   "source": [
    "model.save(\"/content/drive/MyDrive/Colab Notebooks/train_new_models/train_mask_detection2.h5\")"
   ]
  },
  {
   "cell_type": "markdown",
   "id": "da96d315-ecda-4cdc-bf96-2fa32e1bc610",
   "metadata": {
    "id": "da96d315-ecda-4cdc-bf96-2fa32e1bc610"
   },
   "source": [
    "#### `Modelni chaqirib olish`"
   ]
  },
  {
   "cell_type": "code",
   "execution_count": 29,
   "id": "25f16601-8bc3-4c32-8abd-d32de9d8d795",
   "metadata": {
    "executionInfo": {
     "elapsed": 15214,
     "status": "ok",
     "timestamp": 1671537600548,
     "user": {
      "displayName": "Farrux Sotivoldiyev",
      "userId": "00899290962114824973"
     },
     "user_tz": -300
    },
    "id": "25f16601-8bc3-4c32-8abd-d32de9d8d795"
   },
   "outputs": [],
   "source": [
    "new_model = tf.keras.models.load_model(\"/content/drive/MyDrive/Colab Notebooks/train_new_models/train_mask_detection2.h5\")"
   ]
  },
  {
   "cell_type": "markdown",
   "id": "059a6773-24f2-4e97-9556-cae874fd4d1f",
   "metadata": {
    "id": "059a6773-24f2-4e97-9556-cae874fd4d1f"
   },
   "source": [
    "# Tekshirinb ko'ramiz"
   ]
  },
  {
   "cell_type": "markdown",
   "id": "bf122b19-fe39-49a2-beb8-0f64669d0ab7",
   "metadata": {
    "id": "bf122b19-fe39-49a2-beb8-0f64669d0ab7"
   },
   "source": [
    "#### `Maskasiz`"
   ]
  },
  {
   "cell_type": "code",
   "execution_count": 30,
   "id": "f0c8f76e-b58f-436a-86c2-d544cafc9052",
   "metadata": {
    "colab": {
     "base_uri": "https://localhost:8080/"
    },
    "executionInfo": {
     "elapsed": 1288,
     "status": "ok",
     "timestamp": 1671537641672,
     "user": {
      "displayName": "Farrux Sotivoldiyev",
      "userId": "00899290962114824973"
     },
     "user_tz": -300
    },
    "id": "f0c8f76e-b58f-436a-86c2-d544cafc9052",
    "outputId": "fe2deadf-537e-4c1c-d102-aad734a5c9e3"
   },
   "outputs": [
    {
     "name": "stdout",
     "output_type": "stream",
     "text": [
      "1/1 [==============================] - 1s 631ms/step\n"
     ]
    },
    {
     "data": {
      "text/plain": [
       "array([[0.99988186]], dtype=float32)"
      ]
     },
     "execution_count": 30,
     "metadata": {},
     "output_type": "execute_result"
    }
   ],
   "source": [
    "rasm = plt.imread(\"/content/drive/MyDrive/Colab Notebooks/datasets/Face_Mask_Dataset/rasmlar/farruxbek_2.jpg\")\n",
    "rasm = cv2.resize(rasm,(224,224))\n",
    "rasm = np.expand_dims(rasm,0)\n",
    "rasm = rasm / 255.0\n",
    "new_model.predict(rasm)"
   ]
  },
  {
   "cell_type": "code",
   "execution_count": 31,
   "id": "39cf7fea-7cfe-44be-8952-6da160ad203c",
   "metadata": {
    "colab": {
     "base_uri": "https://localhost:8080/"
    },
    "executionInfo": {
     "elapsed": 531,
     "status": "ok",
     "timestamp": 1671537647962,
     "user": {
      "displayName": "Farrux Sotivoldiyev",
      "userId": "00899290962114824973"
     },
     "user_tz": -300
    },
    "id": "39cf7fea-7cfe-44be-8952-6da160ad203c",
    "outputId": "d100e81b-4716-4c55-ed70-cf85a00b118b"
   },
   "outputs": [
    {
     "name": "stdout",
     "output_type": "stream",
     "text": [
      "1/1 [==============================] - 0s 84ms/step\n"
     ]
    },
    {
     "data": {
      "text/plain": [
       "array([[1.]], dtype=float32)"
      ]
     },
     "execution_count": 31,
     "metadata": {},
     "output_type": "execute_result"
    }
   ],
   "source": [
    "rasm = plt.imread(\"/content/drive/MyDrive/Colab Notebooks/datasets/Face_Mask_Dataset/rasmlar/farruxbek_1.jpg\")\n",
    "rasm = cv2.resize(rasm,(224,224))\n",
    "rasm = np.expand_dims(rasm,0)\n",
    "rasm = rasm / 255.0\n",
    "new_model.predict(rasm)"
   ]
  },
  {
   "cell_type": "code",
   "execution_count": 32,
   "id": "91d201c9-3553-4c13-9109-155cad69689f",
   "metadata": {
    "colab": {
     "base_uri": "https://localhost:8080/"
    },
    "executionInfo": {
     "elapsed": 558,
     "status": "ok",
     "timestamp": 1671537652988,
     "user": {
      "displayName": "Farrux Sotivoldiyev",
      "userId": "00899290962114824973"
     },
     "user_tz": -300
    },
    "id": "91d201c9-3553-4c13-9109-155cad69689f",
    "outputId": "eddec002-928d-4d54-be49-b8f0d4e54639"
   },
   "outputs": [
    {
     "name": "stdout",
     "output_type": "stream",
     "text": [
      "1/1 [==============================] - 0s 85ms/step\n"
     ]
    },
    {
     "data": {
      "text/plain": [
       "array([[0.5340014]], dtype=float32)"
      ]
     },
     "execution_count": 32,
     "metadata": {},
     "output_type": "execute_result"
    }
   ],
   "source": [
    "rasm = plt.imread(\"/content/drive/MyDrive/Colab Notebooks/datasets/Face_Mask_Dataset/rasmlar/person1.jpg\")\n",
    "rasm = cv2.resize(rasm,(224,224))\n",
    "rasm = np.expand_dims(rasm,0)\n",
    "rasm = rasm / 255.0\n",
    "new_model.predict(rasm)"
   ]
  },
  {
   "cell_type": "code",
   "execution_count": 33,
   "id": "09e70a6b-3ecd-476f-9ae2-24e971d23412",
   "metadata": {
    "colab": {
     "base_uri": "https://localhost:8080/"
    },
    "executionInfo": {
     "elapsed": 427,
     "status": "ok",
     "timestamp": 1671537656841,
     "user": {
      "displayName": "Farrux Sotivoldiyev",
      "userId": "00899290962114824973"
     },
     "user_tz": -300
    },
    "id": "09e70a6b-3ecd-476f-9ae2-24e971d23412",
    "outputId": "3a847a90-576a-4810-adef-75cd0cc333ca"
   },
   "outputs": [
    {
     "name": "stdout",
     "output_type": "stream",
     "text": [
      "1/1 [==============================] - 0s 85ms/step\n"
     ]
    },
    {
     "data": {
      "text/plain": [
       "array([[1.]], dtype=float32)"
      ]
     },
     "execution_count": 33,
     "metadata": {},
     "output_type": "execute_result"
    }
   ],
   "source": [
    "rasm = plt.imread(\"/content/drive/MyDrive/Colab Notebooks/datasets/Face_Mask_Dataset/rasmlar/person2.jpg\")\n",
    "rasm = cv2.resize(rasm,(224,224))\n",
    "rasm = np.expand_dims(rasm,0)\n",
    "rasm = rasm / 255.0\n",
    "new_model.predict(rasm)"
   ]
  },
  {
   "cell_type": "code",
   "execution_count": 34,
   "id": "a595b7d7-d35e-436b-b694-3f9c2fcf2531",
   "metadata": {
    "colab": {
     "base_uri": "https://localhost:8080/"
    },
    "executionInfo": {
     "elapsed": 420,
     "status": "ok",
     "timestamp": 1671537660672,
     "user": {
      "displayName": "Farrux Sotivoldiyev",
      "userId": "00899290962114824973"
     },
     "user_tz": -300
    },
    "id": "a595b7d7-d35e-436b-b694-3f9c2fcf2531",
    "outputId": "b74731f6-d8d1-4588-e41a-48d78a41979e"
   },
   "outputs": [
    {
     "name": "stdout",
     "output_type": "stream",
     "text": [
      "1/1 [==============================] - 0s 128ms/step\n"
     ]
    },
    {
     "data": {
      "text/plain": [
       "array([[1.]], dtype=float32)"
      ]
     },
     "execution_count": 34,
     "metadata": {},
     "output_type": "execute_result"
    }
   ],
   "source": [
    "rasm = plt.imread(\"/content/drive/MyDrive/Colab Notebooks/datasets/Face_Mask_Dataset/rasmlar/215.jpg\")\n",
    "rasm = cv2.resize(rasm,(224,224))\n",
    "rasm = np.expand_dims(rasm,0)\n",
    "rasm = rasm / 255.0\n",
    "new_model.predict(rasm)"
   ]
  },
  {
   "cell_type": "markdown",
   "id": "c293b049-3dcd-4cef-9ac1-9cb43c618f7a",
   "metadata": {
    "id": "c293b049-3dcd-4cef-9ac1-9cb43c618f7a"
   },
   "source": [
    "#### `Maskali`"
   ]
  },
  {
   "cell_type": "code",
   "execution_count": 35,
   "id": "1d16a613-b589-4022-8bc1-0da6615a535d",
   "metadata": {
    "colab": {
     "base_uri": "https://localhost:8080/"
    },
    "executionInfo": {
     "elapsed": 476,
     "status": "ok",
     "timestamp": 1671537664317,
     "user": {
      "displayName": "Farrux Sotivoldiyev",
      "userId": "00899290962114824973"
     },
     "user_tz": -300
    },
    "id": "1d16a613-b589-4022-8bc1-0da6615a535d",
    "outputId": "25166f18-8b58-4524-ec64-9700cf46ee33"
   },
   "outputs": [
    {
     "name": "stdout",
     "output_type": "stream",
     "text": [
      "1/1 [==============================] - 0s 88ms/step\n"
     ]
    },
    {
     "data": {
      "text/plain": [
       "array([[0.]], dtype=float32)"
      ]
     },
     "execution_count": 35,
     "metadata": {},
     "output_type": "execute_result"
    }
   ],
   "source": [
    "rasm = plt.imread(\"/content/drive/MyDrive/Colab Notebooks/datasets/Face_Mask_Dataset/rasmlar/mask1.jpg\")\n",
    "rasm = cv2.resize(rasm,(224,224))\n",
    "rasm = np.expand_dims(rasm,0)\n",
    "rasm = rasm / 255.0\n",
    "new_model.predict(rasm)"
   ]
  },
  {
   "cell_type": "code",
   "execution_count": 36,
   "id": "3610976a-2dd4-4010-91ad-ac4fd99d6135",
   "metadata": {
    "colab": {
     "base_uri": "https://localhost:8080/"
    },
    "executionInfo": {
     "elapsed": 433,
     "status": "ok",
     "timestamp": 1671537667915,
     "user": {
      "displayName": "Farrux Sotivoldiyev",
      "userId": "00899290962114824973"
     },
     "user_tz": -300
    },
    "id": "3610976a-2dd4-4010-91ad-ac4fd99d6135",
    "outputId": "1f71a380-cfc8-44a6-f5b0-946ff3c6aa99"
   },
   "outputs": [
    {
     "name": "stdout",
     "output_type": "stream",
     "text": [
      "1/1 [==============================] - 0s 102ms/step\n"
     ]
    },
    {
     "data": {
      "text/plain": [
       "array([[0.]], dtype=float32)"
      ]
     },
     "execution_count": 36,
     "metadata": {},
     "output_type": "execute_result"
    }
   ],
   "source": [
    "rasm = plt.imread(\"/content/drive/MyDrive/Colab Notebooks/datasets/Face_Mask_Dataset/rasmlar/mask2.jpg\")\n",
    "rasm = cv2.resize(rasm,(224,224))\n",
    "rasm = np.expand_dims(rasm,0)\n",
    "rasm = rasm / 255.0\n",
    "new_model.predict(rasm)"
   ]
  },
  {
   "cell_type": "code",
   "execution_count": 37,
   "id": "49b007cd-1c14-48c3-9fd4-dda97238506d",
   "metadata": {
    "colab": {
     "base_uri": "https://localhost:8080/"
    },
    "executionInfo": {
     "elapsed": 477,
     "status": "ok",
     "timestamp": 1671537671367,
     "user": {
      "displayName": "Farrux Sotivoldiyev",
      "userId": "00899290962114824973"
     },
     "user_tz": -300
    },
    "id": "49b007cd-1c14-48c3-9fd4-dda97238506d",
    "outputId": "7be19d32-8a8f-4834-e6a7-8d7778c48f01"
   },
   "outputs": [
    {
     "name": "stdout",
     "output_type": "stream",
     "text": [
      "1/1 [==============================] - 0s 86ms/step\n"
     ]
    },
    {
     "data": {
      "text/plain": [
       "array([[0.]], dtype=float32)"
      ]
     },
     "execution_count": 37,
     "metadata": {},
     "output_type": "execute_result"
    }
   ],
   "source": [
    "rasm = plt.imread(\"/content/drive/MyDrive/Colab Notebooks/datasets/Face_Mask_Dataset/rasmlar/with_mask620.jpeg\")\n",
    "rasm = cv2.resize(rasm,(224,224))\n",
    "rasm = np.expand_dims(rasm,0)\n",
    "rasm = rasm / 255.0\n",
    "new_model.predict(rasm)"
   ]
  },
  {
   "cell_type": "code",
   "execution_count": 38,
   "id": "ec65a1d8-f326-4e06-9c2d-53adbf69af56",
   "metadata": {
    "colab": {
     "base_uri": "https://localhost:8080/"
    },
    "executionInfo": {
     "elapsed": 657,
     "status": "ok",
     "timestamp": 1671537674432,
     "user": {
      "displayName": "Farrux Sotivoldiyev",
      "userId": "00899290962114824973"
     },
     "user_tz": -300
    },
    "id": "ec65a1d8-f326-4e06-9c2d-53adbf69af56",
    "outputId": "60680978-2c8c-4351-8fab-f7e23d7b09a9"
   },
   "outputs": [
    {
     "name": "stdout",
     "output_type": "stream",
     "text": [
      "1/1 [==============================] - 0s 87ms/step\n"
     ]
    },
    {
     "data": {
      "text/plain": [
       "array([[0.]], dtype=float32)"
      ]
     },
     "execution_count": 38,
     "metadata": {},
     "output_type": "execute_result"
    }
   ],
   "source": [
    "rasm = plt.imread(\"/content/drive/MyDrive/Colab Notebooks/datasets/Face_Mask_Dataset/rasmlar/with_mask624.jpeg\")\n",
    "rasm = cv2.resize(rasm,(224,224))\n",
    "rasm = np.expand_dims(rasm,0)\n",
    "rasm = rasm / 255.0\n",
    "new_model.predict(rasm)"
   ]
  },
  {
   "cell_type": "markdown",
   "id": "2cbbb9b2-d74d-46db-83ea-450ac2367444",
   "metadata": {
    "id": "2cbbb9b2-d74d-46db-83ea-450ac2367444"
   },
   "source": [
    "#### `Xulosa: Model bashoratiga ko'ra Maskali rasmlar 0.5 dan kichik, Maskasiz esa 0.5 dan katta bo'ladi`"
   ]
  }
 ],
 "metadata": {
  "accelerator": "TPU",
  "colab": {
   "provenance": []
  },
  "gpuClass": "standard",
  "kernelspec": {
   "display_name": "deeplearning",
   "language": "python",
   "name": "deeplearning"
  },
  "language_info": {
   "codemirror_mode": {
    "name": "ipython",
    "version": 3
   },
   "file_extension": ".py",
   "mimetype": "text/x-python",
   "name": "python",
   "nbconvert_exporter": "python",
   "pygments_lexer": "ipython3",
   "version": "3.9.8"
  }
 },
 "nbformat": 4,
 "nbformat_minor": 5
}
